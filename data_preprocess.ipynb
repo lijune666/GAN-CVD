{
 "cells": [
  {
   "cell_type": "code",
   "execution_count": null,
   "id": "2bb826ad",
   "metadata": {},
   "outputs": [],
   "source": [
    "import pandas as pd\n",
    "import numpy as np\n",
    "import warnings\n",
    "warnings.filterwarnings('ignore')"
   ]
  },
  {
   "cell_type": "markdown",
   "id": "b1eebe0f",
   "metadata": {},
   "source": [
    "# Preprocessing"
   ]
  },
  {
   "cell_type": "code",
   "execution_count": null,
   "id": "82421f65",
   "metadata": {},
   "outputs": [],
   "source": [
    "import pandas as pd\n",
    "df = pd.read_csv('/content/drive/MyDrive/Colab Notebooks/bruneck.csv', )"
   ]
  },
  {
   "cell_type": "code",
   "execution_count": null,
   "id": "21005a05",
   "metadata": {},
   "outputs": [],
   "source": [
    "df.shape"
   ]
  },
  {
   "cell_type": "code",
   "execution_count": null,
   "id": "7a627dd8",
   "metadata": {},
   "outputs": [],
   "source": [
    "# Delete duplicate rows and columns\n",
    "df = df.drop_duplicates()\n",
    "df = df.transpose().drop_duplicates().transpose()\n",
    "\n",
    "# Delete index columns and useless columns\n",
    "df = df.iloc[:, 1:-2]\n",
    "df = df.drop('CVD0010W', axis=1)\n",
    "df = df.drop('TYPE1DM', axis=1)\n",
    "\n",
    "# Put the label in the last column\n",
    "cvd_0010 = df.CVD0010\n",
    "df = df.drop('CVD0010', axis=1)\n",
    "df['CVD0010'] = cvd_0010\n",
    "\n",
    "# Change the abnormal value' #DIV/0!' replace with NaN value\n",
    "df.replace('#DIV/0!', np.nan, inplace=True)\n",
    "\n",
    "# Convert all features to numeric types\n",
    "df = df.apply(pd.to_numeric, errors='coerce')"
   ]
  },
  {
   "cell_type": "code",
   "execution_count": null,
   "id": "5d9f8b2c",
   "metadata": {},
   "outputs": [],
   "source": [
    "# # Experiment: randomly select ten complete features to draw a heat map and check the correlation.\n",
    "# cleaned_data = df.dropna()\n",
    "# correlation_matrix = cleaned_data.corr()\n",
    "\n",
    "# import random\n",
    "\n",
    "# random.seed(42)\n",
    "\n",
    "# features = list(cleaned_data.columns)\n",
    "\n",
    "# random_features = random.sample(features, 10)\n",
    "\n",
    "# selected_data = cleaned_data[random_features]\n",
    "\n",
    "# correlation_matrix = selected_data.corr()\n",
    "\n",
    "# plt.figure(figsize=(10, 8))\n",
    "# sns.heatmap(correlation_matrix, annot=True, cmap=\"coolwarm\", vmin=-1, vmax=1)\n",
    "# plt.title(\"Correlation Heatmap of Selected Features\")\n",
    "# plt.show()"
   ]
  },
  {
   "cell_type": "code",
   "execution_count": null,
   "id": "42b28b8b",
   "metadata": {},
   "outputs": [],
   "source": [
    "df.shape"
   ]
  },
  {
   "cell_type": "code",
   "execution_count": null,
   "id": "a7d70f0a",
   "metadata": {},
   "outputs": [],
   "source": [
    "# Observe the missing values of columns.\n",
    "missing_values = df.isnull().sum()\n",
    "sorted_missing_values = missing_values.sort_values()\n",
    "sorted_missing_values"
   ]
  },
  {
   "cell_type": "code",
   "execution_count": null,
   "id": "558e20ac",
   "metadata": {},
   "outputs": [],
   "source": [
    "# Delete Gln, Glol, Pyr columns (the missing value reaches about 30%)\n",
    "columns_to_drop = ['Gln', 'Glol', 'Pyr']\n",
    "df = df.drop(columns=columns_to_drop)"
   ]
  },
  {
   "cell_type": "code",
   "execution_count": null,
   "id": "96099fd5",
   "metadata": {},
   "outputs": [],
   "source": [
    "df.shape"
   ]
  },
  {
   "cell_type": "code",
   "execution_count": null,
   "id": "33ad3f02",
   "metadata": {},
   "outputs": [],
   "source": [
    "# Observe the missing values of rows\n",
    "def count_nan(row):\n",
    "    return row.isna().sum()\n",
    "\n",
    "nan_counts = df.apply(count_nan, axis=1)\n",
    "count_distribution = nan_counts.value_counts()\n",
    "count_distribution_sorted_index = count_distribution.sort_index()\n",
    "print(count_distribution_sorted_index)"
   ]
  },
  {
   "cell_type": "code",
   "execution_count": null,
   "id": "ccdb2aaf",
   "metadata": {},
   "outputs": [],
   "source": [
    "# Delete rows with the missing value reaches about 50%)\n",
    "nan_counts = df.isnull().sum(axis=1)\n",
    "# rows_to_drop = df[nan_counts > df.shape[1] / 2]\n",
    "rows_to_drop = df[nan_counts > df.shape[1] * 0.5]\n",
    "df = df.drop(rows_to_drop.index)"
   ]
  },
  {
   "cell_type": "code",
   "execution_count": null,
   "id": "0e1de3d7",
   "metadata": {},
   "outputs": [],
   "source": [
    "# Observe the missing values of rows\n",
    "def count_nan(row):\n",
    "    return row.isna().sum()\n",
    "\n",
    "nan_counts = df.apply(count_nan, axis=1)\n",
    "count_distribution = nan_counts.value_counts()\n",
    "count_distribution_sorted_index = count_distribution.sort_index()\n",
    "print(count_distribution_sorted_index)"
   ]
  },
  {
   "cell_type": "code",
   "execution_count": null,
   "id": "6820c64d",
   "metadata": {},
   "outputs": [],
   "source": [
    "df.shape"
   ]
  },
  {
   "cell_type": "code",
   "execution_count": null,
   "id": "ce358c05",
   "metadata": {},
   "outputs": [],
   "source": [
    "# Delete the row with the label value of NaN\n",
    "df = df.dropna(subset=['CVD0010'])"
   ]
  },
  {
   "cell_type": "code",
   "execution_count": null,
   "id": "ff0d2fca",
   "metadata": {},
   "outputs": [],
   "source": [
    "df.shape"
   ]
  },
  {
   "cell_type": "markdown",
   "id": "7380b6b9",
   "metadata": {},
   "source": [
    "# knnImpute"
   ]
  },
  {
   "cell_type": "code",
   "execution_count": null,
   "id": "f64807f3",
   "metadata": {},
   "outputs": [],
   "source": [
    "df_knn_undisposed = df"
   ]
  },
  {
   "cell_type": "code",
   "execution_count": null,
   "id": "0562f9a8",
   "metadata": {},
   "outputs": [],
   "source": [
    "X = df_knn_undisposed.drop('CVD0010', axis=1) \n",
    "y = df_knn_undisposed['CVD0010'] "
   ]
  },
  {
   "cell_type": "code",
   "execution_count": null,
   "id": "1da1c10c",
   "metadata": {},
   "outputs": [],
   "source": [
    "from sklearn.impute import KNNImputer\n",
    "from sklearn.model_selection import train_test_split, GridSearchCV\n",
    "from sklearn.neighbors import KNeighborsClassifier\n",
    "import numpy as np\n",
    "from sklearn.svm import SVC\n",
    "\n",
    "# Create a KNNImputer object\n",
    "imputer = KNNImputer()\n",
    "\n",
    "# Interpolation on the training set\n",
    "X_imputed = imputer.fit_transform(X)\n",
    "\n",
    "# Define a list of candidate k values.\n",
    "k_values = list(range(1, 31))\n",
    "\n",
    "# Create KNN classifier object\n",
    "knn = KNeighborsClassifier()\n",
    "\n",
    "# Perform GridSearchCV to find the best k value\n",
    "param_grid = {'n_neighbors': k_values}\n",
    "grid_search = GridSearchCV(knn, param_grid, cv=5)\n",
    "grid_search.fit(X_imputed, y)\n",
    "\n",
    "# Find all k values and their corresponding scores in the GridSearchCV results\n",
    "k_scores = [(k, score) for k, score in zip(grid_search.cv_results_['param_n_neighbors'], grid_search.cv_results_['mean_test_score'])]\n",
    "\n",
    "# Sort the k_scores by the mean test score (descending order)\n",
    "k_scores.sort(key=lambda x: x[1], reverse=True)\n",
    "\n",
    "# Find the best accuracy (maximum mean test score)\n",
    "best_accuracy = k_scores[0][1]\n",
    "\n",
    "# Find all k values that have the same best accuracy\n",
    "best_k_values = [k for k, score in k_scores if score == best_accuracy]\n",
    "\n",
    "print(\"Best K values\", best_k_values)\n",
    "print(\"Best Accuracy {}\".format(best_accuracy))"
   ]
  },
  {
   "cell_type": "code",
   "execution_count": null,
   "id": "e7b236c0",
   "metadata": {},
   "outputs": [],
   "source": [
    "# Create a KNNImputer object and set the best k=20\n",
    "imputer = KNNImputer(n_neighbors=20)\n",
    "\n",
    "# Interpolation on the data set\n",
    "df_knn = imputer.fit_transform(df_knn_undisposed)"
   ]
  },
  {
   "cell_type": "code",
   "execution_count": null,
   "id": "c3e20204",
   "metadata": {},
   "outputs": [],
   "source": [
    "df_knn = pd.DataFrame(df_knn)\n",
    "df_knn.columns = df_knn_undisposed.columns"
   ]
  },
  {
   "cell_type": "code",
   "execution_count": null,
   "id": "d40c671a",
   "metadata": {},
   "outputs": [],
   "source": [
    "df_knn"
   ]
  },
  {
   "cell_type": "code",
   "execution_count": null,
   "id": "caa507f1",
   "metadata": {},
   "outputs": [],
   "source": [
    "# # output\n",
    "# df_knn.to_csv('df_knn.csv', index=False)"
   ]
  },
  {
   "cell_type": "markdown",
   "id": "68dbbb5a",
   "metadata": {},
   "source": [
    "# SVM"
   ]
  },
  {
   "cell_type": "code",
   "execution_count": null,
   "id": "0e7e01ae",
   "metadata": {},
   "outputs": [],
   "source": [
    "# Delete the missing values of different thresholds and test them on SVM after interpolation.\n",
    "# Used to select an appropriate threshold."
   ]
  },
  {
   "cell_type": "code",
   "execution_count": null,
   "id": "dc3cf949",
   "metadata": {},
   "outputs": [],
   "source": [
    "# split feature and label\n",
    "X = df_knn.drop('CVD0010', axis=1)  \n",
    "y = df_knn['CVD0010'] "
   ]
  },
  {
   "cell_type": "code",
   "execution_count": null,
   "id": "68f42026",
   "metadata": {},
   "outputs": [],
   "source": [
    "from sklearn.preprocessing import StandardScaler\n",
    "# normalize X_train, X_test\n",
    "scaler = StandardScaler()\n",
    "X = pd.DataFrame(scaler.fit_transform(X), columns=X.columns)"
   ]
  },
  {
   "cell_type": "code",
   "execution_count": null,
   "id": "097d49cd",
   "metadata": {},
   "outputs": [],
   "source": [
    "# split train and test\n",
    "X_train, X_test, y_train, y_test = train_test_split(X, y, random_state=42, test_size=0.2)"
   ]
  },
  {
   "cell_type": "code",
   "execution_count": null,
   "id": "9d01c8b8",
   "metadata": {},
   "outputs": [],
   "source": [
    "import torch\n",
    "from sklearn.metrics import roc_curve, roc_auc_score, precision_recall_curve, average_precision_score, accuracy_score\n",
    "from sklearn.svm import SVC\n",
    "\n",
    "def train_and_evaluate_svm(X_train, y_train, X_test, y_test):\n",
    "    X_train_tensor = torch.tensor(X_train.values, dtype=torch.float32)\n",
    "    y_train_tensor = torch.tensor(y_train.values, dtype=torch.long)\n",
    "\n",
    "    # SVM\n",
    "    svm_classifier = SVC(probability=True)\n",
    "\n",
    "    # train\n",
    "    svm_classifier.fit(X_train_tensor.numpy(), y_train_tensor.numpy())\n",
    "\n",
    "    X_test_tensor = torch.tensor(X_test.values, dtype=torch.float32)\n",
    "    y_test_tensor = torch.tensor(y_test.values, dtype=torch.long)\n",
    "\n",
    "    # test\n",
    "    y_scores = svm_classifier.predict_proba(X_test_tensor.numpy())[:, 1]\n",
    "    y_pred = svm_classifier.predict(X_test_tensor.numpy())\n",
    "\n",
    "    # FPR and TPR for ROC curve\n",
    "    fpr, tpr, thresholds = roc_curve(y_test_tensor.numpy(), y_scores)\n",
    "\n",
    "    # AUC\n",
    "    auc = roc_auc_score(y_test_tensor.numpy(), y_scores)\n",
    "\n",
    "    return auc"
   ]
  },
  {
   "cell_type": "code",
   "execution_count": null,
   "id": "4c8ac919",
   "metadata": {},
   "outputs": [],
   "source": [
    "torch.manual_seed(42)\n",
    "\n",
    "# original data\n",
    "roc_results = []\n",
    "\n",
    "# Repeat the training and evaluation process 30 times.\n",
    "num_repeats = 30\n",
    "for _ in range(num_repeats):\n",
    "    auc = train_and_evaluate_svm(X_train, y_train, X_test, y_test)\n",
    "    roc_results.append(auc)  # Store the AUC value in the tuple\n",
    "\n",
    "# Calculate the average value of evaluation indicators\n",
    "mean_auc = np.mean([result for result in roc_results])  # Retrieve the AUC value from the tuple\n",
    "\n",
    "print(\"Mean AUC:\", mean_auc)"
   ]
  },
  {
   "cell_type": "code",
   "execution_count": null,
   "id": "2af056f9",
   "metadata": {},
   "outputs": [],
   "source": []
  }
 ],
 "metadata": {
  "kernelspec": {
   "display_name": "Python [conda env:base-env_gan]",
   "language": "python",
   "name": "conda-env-base-env_gan-py"
  },
  "language_info": {
   "codemirror_mode": {
    "name": "ipython",
    "version": 3
   },
   "file_extension": ".py",
   "mimetype": "text/x-python",
   "name": "python",
   "nbconvert_exporter": "python",
   "pygments_lexer": "ipython3",
   "version": "3.10.11"
  }
 },
 "nbformat": 4,
 "nbformat_minor": 5
}
